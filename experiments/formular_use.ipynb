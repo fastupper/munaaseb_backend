{
 "cells": [
  {
   "cell_type": "code",
   "execution_count": 4,
   "metadata": {},
   "outputs": [
    {
     "name": "stderr",
     "output_type": "stream",
     "text": [
      "  0%|          | 0/3144 [00:00<?, ?it/s]"
     ]
    },
    {
     "name": "stderr",
     "output_type": "stream",
     "text": [
      "100%|██████████| 3144/3144 [00:20<00:00, 150.81it/s]\n"
     ]
    }
   ],
   "source": [
    "import pandas as pd\n",
    "import formulas\n",
    "import openpyxl\n",
    "import numpy as np\n",
    "from tqdm import tqdm\n",
    "tqdm.pandas()\n",
    "\n",
    "\n",
    "def get_cell(dataframe, cell_addr):\n",
    "    sheet, cell_addr = cell_addr.split('!')\n",
    "    \n",
    "    selector = (dataframe['sheet']==sheet.upper()) & (dataframe['address']==cell_addr)\n",
    "    filtered_df = dataframe.loc[selector]\n",
    "\n",
    "    if len(filtered_df) > 0:\n",
    "        first_data = filtered_df.iloc[0].to_dict()\n",
    "        return first_data\n",
    "    else:\n",
    "        return -1\n",
    "\n",
    "\n",
    "def get_cell_value(dataframe, cell_addr):\n",
    "    '''\n",
    "    get cell calculated value, else -1\n",
    "    \n",
    "    '''\n",
    "    if ':' in cell_addr:\n",
    "        cell_sheet, cell_addr = cell_addr.split('!')\n",
    "        start_cell, end_cell = cell_addr.split(':')\n",
    "        start_col, start_row = openpyxl.utils.cell.coordinate_to_tuple(start_cell)\n",
    "        end_col, end_row = openpyxl.utils.cell.coordinate_to_tuple(end_cell)\n",
    "\n",
    "        value = []\n",
    "        for col in range(start_col, end_col + 1):\n",
    "            value_col = []\n",
    "            for row in range(start_row, end_row + 1):\n",
    "                cell_address = cell_sheet + '!' + openpyxl.utils.cell.get_column_letter(row) + str(col)\n",
    "                cell_value = get_cell(dataframe, cell_address)\n",
    "                if cell_value != -1:\n",
    "                    cell_value = cell_value['result']\n",
    "\n",
    "                value_col.append(cell_value)\n",
    "            value.append(value_col)\n",
    "\n",
    "        return value\n",
    "    else:\n",
    "        cell = get_cell(dataframe, cell_addr)\n",
    "        if cell == -1:\n",
    "            return -1\n",
    "        return cell['result']\n",
    "\n",
    "\n",
    "def calculate(dataframe, formula):\n",
    "    if isinstance(formula, str) and formula.startswith('='):\n",
    "        try:\n",
    "            func = formulas.Parser().ast(formula)[1].compile()\n",
    "        except Exception as e:\n",
    "            print(f'The formular is not passable: {formula}')\n",
    "            raise e\n",
    "            return -1 \n",
    "        func_input_addr = list(func.inputs)\n",
    "\n",
    "        func_inputs = []\n",
    "        for addr in func_input_addr:\n",
    "            cell_value = get_cell_value(dataframe, addr)\n",
    "\n",
    "            func_inputs.append(np.array(cell_value))\n",
    "        \n",
    "        result = func(*func_inputs)\n",
    "\n",
    "        calculation_error = False\n",
    "        if isinstance(result, list):\n",
    "            if len(result) > 0:\n",
    "                if len(result[0]) > 0:\n",
    "                    if isinstance(result[0][0], formulas.tokens.operand.XlError):\n",
    "                        calculation_error = True\n",
    "\n",
    "        if not calculation_error:\n",
    "            return result\n",
    "        else:\n",
    "            return -1\n",
    "    else:\n",
    "        return formula\n",
    "\n",
    "\n",
    "formular_df = pd.read_csv('output/formular.csv')\n",
    "formular_df['sheet'] = formular_df['sheet'].apply(lambda x: x.upper())\n",
    "formular_df['result'] = formular_df['value'].apply(lambda x: -1 if isinstance(x, str) and x.startswith('=') else x)\n",
    "\n",
    "\n",
    "# target_title_addr = 'For_integration_V02!BI4'\n",
    "# target_formular_addr = 'For_integration_V02!BI5'\n",
    "\n",
    "# title = get_cell(formular_df, target_title_addr)['value']\n",
    "# formula = get_cell(formular_df, target_formular_addr)['formula_addr']\n",
    "\n",
    "formular_df['result'] = formular_df['formula_addr'].progress_apply(lambda x: calculate(formular_df, x))\n",
    "# formular_df[268:269]['formula_addr'].progress_apply(lambda x: calculate(formular_df, x))"
   ]
  },
  {
   "cell_type": "code",
   "execution_count": 11,
   "metadata": {},
   "outputs": [
    {
     "name": "stderr",
     "output_type": "stream",
     "text": [
      "100%|██████████| 3144/3144 [00:21<00:00, 146.78it/s]\n"
     ]
    }
   ],
   "source": [
    "formular_df['result'] = formular_df['formula_addr'].progress_apply(lambda x: calculate(formular_df, x))"
   ]
  },
  {
   "cell_type": "code",
   "execution_count": 10,
   "metadata": {},
   "outputs": [
    {
     "data": {
      "text/plain": [
       "Unnamed: 0                                                   1157\n",
       "sheet                                         FOR_INTEGRATION_V02\n",
       "address                                                       AX5\n",
       "value                                   =IF(K5/J5<0.2,\"Yes\",\"No\")\n",
       "formula_addr    =IF(For_integration_V02!K5/For_integration_V02...\n",
       "result                                                        Yes\n",
       "Name: 1157, dtype: object"
      ]
     },
     "execution_count": 10,
     "metadata": {},
     "output_type": "execute_result"
    }
   ],
   "source": [
    "formular_df.iloc[1157]"
   ]
  },
  {
   "cell_type": "code",
   "execution_count": 4,
   "metadata": {},
   "outputs": [
    {
     "data": {
      "text/plain": [
       "'FOR_INTEGRATION_V02!Q5'"
      ]
     },
     "execution_count": 4,
     "metadata": {},
     "output_type": "execute_result"
    }
   ],
   "source": [
    "addr = list(func.inputs)[-1]\n",
    "addr"
   ]
  },
  {
   "cell_type": "code",
   "execution_count": 36,
   "metadata": {},
   "outputs": [
    {
     "data": {
      "text/plain": [
       "{'Unnamed: 0': 1148,\n",
       " 'sheet': 'FOR_INTEGRATION_V02',\n",
       " 'address': 'Q5',\n",
       " 'value': 'مستحق للدعم',\n",
       " 'formula_addr': 'مستحق للدعم'}"
      ]
     },
     "execution_count": 36,
     "metadata": {},
     "output_type": "execute_result"
    }
   ],
   "source": [
    "get_cell(formular_df, addr)"
   ]
  },
  {
   "cell_type": "code",
   "execution_count": 5,
   "metadata": {},
   "outputs": [
    {
     "name": "stdout",
     "output_type": "stream",
     "text": [
      "Aff_Max_DP Interest =INDEX(Assumption!C11:I36,MATCH(For_integration_V02!BT5,Assumption!B11:B36,0),MATCH(For_integration_V02!Q5,Assumption!C10:I10,0))\n"
     ]
    }
   ],
   "source": [
    "\n",
    "\n",
    "target_title_addr = 'For_integration_V02!BU4'\n",
    "target_formular_addr = 'For_integration_V02!BU5'\n",
    "\n",
    "title = get_cell(formular_df, target_title_addr)['value']\n",
    "formula = get_cell(formular_df, target_formular_addr)['formula_addr']\n",
    "print(title, formula)\n",
    "\n",
    "func = formulas.Parser().ast(formula)[1].compile()"
   ]
  },
  {
   "cell_type": "code",
   "execution_count": 10,
   "metadata": {},
   "outputs": [
    {
     "data": {
      "text/plain": [
       "OrderedDict([('ASSUMPTION!B11:B36', <Ranges>(ASSUMPTION!B11:B36)),\n",
       "             ('ASSUMPTION!C10:I10', <Ranges>(ASSUMPTION!C10:I10)),\n",
       "             ('ASSUMPTION!C11:I36', <Ranges>(ASSUMPTION!C11:I36)),\n",
       "             ('FOR_INTEGRATION_V02!BT5', <Ranges>(FOR_INTEGRATION_V02!BT5)),\n",
       "             ('FOR_INTEGRATION_V02!Q5', <Ranges>(FOR_INTEGRATION_V02!Q5))])"
      ]
     },
     "execution_count": 10,
     "metadata": {},
     "output_type": "execute_result"
    }
   ],
   "source": [
    "func.inputs"
   ]
  },
  {
   "cell_type": "code",
   "execution_count": 19,
   "metadata": {},
   "outputs": [
    {
     "data": {
      "text/plain": [
       "Array([[1]], dtype=object)"
      ]
     },
     "execution_count": 19,
     "metadata": {},
     "output_type": "execute_result"
    }
   ],
   "source": [
    "import numpy as np\n",
    "\n",
    "func(np.array([4,5,6]),np.array([1,2,3]),np.array([[1,2,3],[4,5,6],[7,8,9]]),np.array(4),1)"
   ]
  },
  {
   "cell_type": "code",
   "execution_count": 13,
   "metadata": {},
   "outputs": [
    {
     "ename": "TypeError",
     "evalue": "'int' object is not subscriptable",
     "output_type": "error",
     "traceback": [
      "\u001b[1;31m---------------------------------------------------------------------------\u001b[0m",
      "\u001b[1;31mTypeError\u001b[0m                                 Traceback (most recent call last)",
      "File \u001b[1;32md:\\Program Files\\miniconda3\\envs\\py38\\lib\\site-packages\\IPython\\core\\formatters.py:707\u001b[0m, in \u001b[0;36mPlainTextFormatter.__call__\u001b[1;34m(self, obj)\u001b[0m\n\u001b[0;32m    700\u001b[0m stream \u001b[39m=\u001b[39m StringIO()\n\u001b[0;32m    701\u001b[0m printer \u001b[39m=\u001b[39m pretty\u001b[39m.\u001b[39mRepresentationPrinter(stream, \u001b[39mself\u001b[39m\u001b[39m.\u001b[39mverbose,\n\u001b[0;32m    702\u001b[0m     \u001b[39mself\u001b[39m\u001b[39m.\u001b[39mmax_width, \u001b[39mself\u001b[39m\u001b[39m.\u001b[39mnewline,\n\u001b[0;32m    703\u001b[0m     max_seq_length\u001b[39m=\u001b[39m\u001b[39mself\u001b[39m\u001b[39m.\u001b[39mmax_seq_length,\n\u001b[0;32m    704\u001b[0m     singleton_pprinters\u001b[39m=\u001b[39m\u001b[39mself\u001b[39m\u001b[39m.\u001b[39msingleton_printers,\n\u001b[0;32m    705\u001b[0m     type_pprinters\u001b[39m=\u001b[39m\u001b[39mself\u001b[39m\u001b[39m.\u001b[39mtype_printers,\n\u001b[0;32m    706\u001b[0m     deferred_pprinters\u001b[39m=\u001b[39m\u001b[39mself\u001b[39m\u001b[39m.\u001b[39mdeferred_printers)\n\u001b[1;32m--> 707\u001b[0m printer\u001b[39m.\u001b[39;49mpretty(obj)\n\u001b[0;32m    708\u001b[0m printer\u001b[39m.\u001b[39mflush()\n\u001b[0;32m    709\u001b[0m \u001b[39mreturn\u001b[39;00m stream\u001b[39m.\u001b[39mgetvalue()\n",
      "File \u001b[1;32md:\\Program Files\\miniconda3\\envs\\py38\\lib\\site-packages\\IPython\\lib\\pretty.py:410\u001b[0m, in \u001b[0;36mRepresentationPrinter.pretty\u001b[1;34m(self, obj)\u001b[0m\n\u001b[0;32m    407\u001b[0m                         \u001b[39mreturn\u001b[39;00m meth(obj, \u001b[39mself\u001b[39m, cycle)\n\u001b[0;32m    408\u001b[0m                 \u001b[39mif\u001b[39;00m \u001b[39mcls\u001b[39m \u001b[39mis\u001b[39;00m \u001b[39mnot\u001b[39;00m \u001b[39mobject\u001b[39m \\\n\u001b[0;32m    409\u001b[0m                         \u001b[39mand\u001b[39;00m \u001b[39mcallable\u001b[39m(\u001b[39mcls\u001b[39m\u001b[39m.\u001b[39m\u001b[39m__dict__\u001b[39m\u001b[39m.\u001b[39mget(\u001b[39m'\u001b[39m\u001b[39m__repr__\u001b[39m\u001b[39m'\u001b[39m)):\n\u001b[1;32m--> 410\u001b[0m                     \u001b[39mreturn\u001b[39;00m _repr_pprint(obj, \u001b[39mself\u001b[39;49m, cycle)\n\u001b[0;32m    412\u001b[0m     \u001b[39mreturn\u001b[39;00m _default_pprint(obj, \u001b[39mself\u001b[39m, cycle)\n\u001b[0;32m    413\u001b[0m \u001b[39mfinally\u001b[39;00m:\n",
      "File \u001b[1;32md:\\Program Files\\miniconda3\\envs\\py38\\lib\\site-packages\\IPython\\lib\\pretty.py:778\u001b[0m, in \u001b[0;36m_repr_pprint\u001b[1;34m(obj, p, cycle)\u001b[0m\n\u001b[0;32m    776\u001b[0m \u001b[39m\u001b[39m\u001b[39m\"\"\"A pprint that just redirects to the normal repr function.\"\"\"\u001b[39;00m\n\u001b[0;32m    777\u001b[0m \u001b[39m# Find newlines and replace them with p.break_()\u001b[39;00m\n\u001b[1;32m--> 778\u001b[0m output \u001b[39m=\u001b[39m \u001b[39mrepr\u001b[39;49m(obj)\n\u001b[0;32m    779\u001b[0m lines \u001b[39m=\u001b[39m output\u001b[39m.\u001b[39msplitlines()\n\u001b[0;32m    780\u001b[0m \u001b[39mwith\u001b[39;00m p\u001b[39m.\u001b[39mgroup():\n",
      "File \u001b[1;32md:\\Program Files\\miniconda3\\envs\\py38\\lib\\site-packages\\formulas\\ranges.py:258\u001b[0m, in \u001b[0;36mRanges.__repr__\u001b[1;34m(self)\u001b[0m\n\u001b[0;32m    257\u001b[0m \u001b[39mdef\u001b[39;00m \u001b[39m__repr__\u001b[39m(\u001b[39mself\u001b[39m):\n\u001b[1;32m--> 258\u001b[0m     ranges \u001b[39m=\u001b[39m \u001b[39m'\u001b[39;49m\u001b[39m, \u001b[39;49m\u001b[39m'\u001b[39;49m\u001b[39m.\u001b[39;49mjoin(r[\u001b[39m'\u001b[39;49m\u001b[39mname\u001b[39;49m\u001b[39m'\u001b[39;49m] \u001b[39mfor\u001b[39;49;00m r \u001b[39min\u001b[39;49;00m \u001b[39mself\u001b[39;49m\u001b[39m.\u001b[39;49mranges)\n\u001b[0;32m    259\u001b[0m     value \u001b[39m=\u001b[39m \u001b[39m'\u001b[39m\u001b[39m=\u001b[39m\u001b[39m{}\u001b[39;00m\u001b[39m'\u001b[39m\u001b[39m.\u001b[39mformat(\u001b[39mself\u001b[39m\u001b[39m.\u001b[39mvalue) \u001b[39mif\u001b[39;00m ranges \u001b[39mand\u001b[39;00m \u001b[39mself\u001b[39m\u001b[39m.\u001b[39mvalues \u001b[39melse\u001b[39;00m \u001b[39m'\u001b[39m\u001b[39m'\u001b[39m\n\u001b[0;32m    260\u001b[0m     \u001b[39mreturn\u001b[39;00m \u001b[39m'\u001b[39m\u001b[39m<\u001b[39m\u001b[39m%s\u001b[39;00m\u001b[39m>(\u001b[39m\u001b[39m%s\u001b[39;00m\u001b[39m)\u001b[39m\u001b[39m%s\u001b[39;00m\u001b[39m'\u001b[39m \u001b[39m%\u001b[39m (\u001b[39mself\u001b[39m\u001b[39m.\u001b[39m\u001b[39m__class__\u001b[39m\u001b[39m.\u001b[39m\u001b[39m__name__\u001b[39m, ranges, value)\n",
      "File \u001b[1;32md:\\Program Files\\miniconda3\\envs\\py38\\lib\\site-packages\\formulas\\ranges.py:258\u001b[0m, in \u001b[0;36m<genexpr>\u001b[1;34m(.0)\u001b[0m\n\u001b[0;32m    257\u001b[0m \u001b[39mdef\u001b[39;00m \u001b[39m__repr__\u001b[39m(\u001b[39mself\u001b[39m):\n\u001b[1;32m--> 258\u001b[0m     ranges \u001b[39m=\u001b[39m \u001b[39m'\u001b[39m\u001b[39m, \u001b[39m\u001b[39m'\u001b[39m\u001b[39m.\u001b[39mjoin(r[\u001b[39m'\u001b[39;49m\u001b[39mname\u001b[39;49m\u001b[39m'\u001b[39;49m] \u001b[39mfor\u001b[39;00m r \u001b[39min\u001b[39;00m \u001b[39mself\u001b[39m\u001b[39m.\u001b[39mranges)\n\u001b[0;32m    259\u001b[0m     value \u001b[39m=\u001b[39m \u001b[39m'\u001b[39m\u001b[39m=\u001b[39m\u001b[39m{}\u001b[39;00m\u001b[39m'\u001b[39m\u001b[39m.\u001b[39mformat(\u001b[39mself\u001b[39m\u001b[39m.\u001b[39mvalue) \u001b[39mif\u001b[39;00m ranges \u001b[39mand\u001b[39;00m \u001b[39mself\u001b[39m\u001b[39m.\u001b[39mvalues \u001b[39melse\u001b[39;00m \u001b[39m'\u001b[39m\u001b[39m'\u001b[39m\n\u001b[0;32m    260\u001b[0m     \u001b[39mreturn\u001b[39;00m \u001b[39m'\u001b[39m\u001b[39m<\u001b[39m\u001b[39m%s\u001b[39;00m\u001b[39m>(\u001b[39m\u001b[39m%s\u001b[39;00m\u001b[39m)\u001b[39m\u001b[39m%s\u001b[39;00m\u001b[39m'\u001b[39m \u001b[39m%\u001b[39m (\u001b[39mself\u001b[39m\u001b[39m.\u001b[39m\u001b[39m__class__\u001b[39m\u001b[39m.\u001b[39m\u001b[39m__name__\u001b[39m, ranges, value)\n",
      "\u001b[1;31mTypeError\u001b[0m: 'int' object is not subscriptable"
     ]
    }
   ],
   "source": [
    "formulas.Ranges(ranges=[1,2,3])"
   ]
  }
 ],
 "metadata": {
  "kernelspec": {
   "display_name": "py38",
   "language": "python",
   "name": "python3"
  },
  "language_info": {
   "codemirror_mode": {
    "name": "ipython",
    "version": 3
   },
   "file_extension": ".py",
   "mimetype": "text/x-python",
   "name": "python",
   "nbconvert_exporter": "python",
   "pygments_lexer": "ipython3",
   "version": "3.8.16"
  },
  "orig_nbformat": 4
 },
 "nbformat": 4,
 "nbformat_minor": 2
}
