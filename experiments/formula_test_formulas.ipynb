{
 "cells": [
  {
   "cell_type": "code",
   "execution_count": 2,
   "metadata": {},
   "outputs": [
    {
     "name": "stdout",
     "output_type": "stream",
     "text": [
      "['A2', 'B3']\n"
     ]
    },
    {
     "data": {
      "text/plain": [
       "Array(7.0, dtype=object)"
      ]
     },
     "execution_count": 2,
     "metadata": {},
     "output_type": "execute_result"
    }
   ],
   "source": [
    "import formulas\n",
    "func = formulas.Parser().ast('=(1 + 1) + B3 / A2')[1].compile()\n",
    "print(list(func.inputs))\n",
    "func(1, 5)"
   ]
  },
  {
   "cell_type": "code",
   "execution_count": 5,
   "metadata": {},
   "outputs": [
    {
     "data": {
      "text/plain": [
       "Array(7.0, dtype=object)"
      ]
     },
     "execution_count": 5,
     "metadata": {},
     "output_type": "execute_result"
    }
   ],
   "source": [
    "\n",
    "\"\"\"\n",
    "=IF(HV5=\"Scenario\",FV(0,HO5*12,-HT5),FV(0,HO5*12,-HS5))\",\"=IF(For_integration_V02!HV5=\"\"Scenario\"\",FV(0,For_integration_V02!For_integration_V02!HO5*12,-For_integration_V02!HT5),FV(0,For_integration_V02!For_integration_V02!HO5*12,-For_integration_V02!HS5))\n",
    "\n",
    "=IF(HV5=\"Scenario\",\n",
    "    FV(0,HO5*12,-HT5),\n",
    "    FV(0,HO5*12,-HS5)\n",
    ")\n",
    "\n",
    "=IF(For_integration_V02!HV5=\"\"Scenario\"\",FV(0,For_integration_V02!For_integration_V02!HO5*12,-For_integration_V02!HT5),FV(0,For_integration_V02!For_integration_V02!HO5*12,-For_integration_V02!HS5))\n",
    "\"\"\"\n",
    "\n",
    "func = formulas.Parser().ast('=IF(HV5=\"Scenario\",FV(0,HO5*12,-HT5),FV(0,HO5*12,-HS5))\",\"=IF(For_integration_V02!HV5=\"\"Scenario\"\",FV(0,For_integration_V02!For_integration_V02!HO5*12,-For_integration_V02!HT5),FV(0,For_integration_V02!For_integration_V02!HO5*12,-For_integration_V02!HS5))')[1].compile()"
   ]
  },
  {
   "cell_type": "code",
   "execution_count": 11,
   "metadata": {},
   "outputs": [
    {
     "name": "stdout",
     "output_type": "stream",
     "text": [
      "['HO5', 'HS5', 'HT5', 'HV5']\n"
     ]
    },
    {
     "data": {
      "text/plain": [
       "Array(60.0, dtype=object)"
      ]
     },
     "execution_count": 11,
     "metadata": {},
     "output_type": "execute_result"
    }
   ],
   "source": [
    "func = formulas.Parser().ast('=IF(HV5=\"Scenario\",FV(0,HO5*12,-HT5),FV(0,HO5*12,-HS5))')[1].compile()\n",
    "print(list(func.inputs))\n",
    "func(1, 5, 10, 11)"
   ]
  }
 ],
 "metadata": {
  "kernelspec": {
   "display_name": "py38",
   "language": "python",
   "name": "python3"
  },
  "language_info": {
   "codemirror_mode": {
    "name": "ipython",
    "version": 3
   },
   "file_extension": ".py",
   "mimetype": "text/x-python",
   "name": "python",
   "nbconvert_exporter": "python",
   "pygments_lexer": "ipython3",
   "version": "3.8.16"
  },
  "orig_nbformat": 4
 },
 "nbformat": 4,
 "nbformat_minor": 2
}
