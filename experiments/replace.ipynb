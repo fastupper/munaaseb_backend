{
 "cells": [
  {
   "cell_type": "code",
   "execution_count": 3,
   "metadata": {},
   "outputs": [
    {
     "name": "stdout",
     "output_type": "stream",
     "text": [
      "This is an example text. Replace 'modified' with 'modified'.\n"
     ]
    }
   ],
   "source": [
    "def str_replace(text, old_substring, new_substring):\n",
    "    \"\"\"\n",
    "    Replace occurrences of old_substring with new_substring in the text.\n",
    "\n",
    "    Parameters:\n",
    "        text (str): The original text.\n",
    "        old_substring (str): The substring to be replaced.\n",
    "        new_substring (str): The new substring to replace old_substring.\n",
    "\n",
    "    Returns:\n",
    "        str: The text with replacements made.\n",
    "    \"\"\"\n",
    "    result = \"\"\n",
    "    i = 0\n",
    "    while i < len(text):\n",
    "        match_substring = text[i:i + len(old_substring)] == old_substring\n",
    "        quote_on_left = text[i-1] == '\\''\n",
    "        if match_substring and quote_on_left:\n",
    "            result += new_substring\n",
    "            i += len(old_substring)\n",
    "        else:\n",
    "            result += text[i]\n",
    "            i += 1\n",
    "    return result\n",
    "\n",
    "original_text = \"This is an example text. Replace 'example' with 'modified'.\"\n",
    "old_substring = \"example\"\n",
    "new_substring = \"modified\"\n",
    "\n",
    "modified_text = str_replace(original_text, old_substring, new_substring)\n",
    "print(modified_text)\n",
    "\n"
   ]
  }
 ],
 "metadata": {
  "kernelspec": {
   "display_name": "py38",
   "language": "python",
   "name": "python3"
  },
  "language_info": {
   "codemirror_mode": {
    "name": "ipython",
    "version": 3
   },
   "file_extension": ".py",
   "mimetype": "text/x-python",
   "name": "python",
   "nbconvert_exporter": "python",
   "pygments_lexer": "ipython3",
   "version": "3.8.16"
  },
  "orig_nbformat": 4
 },
 "nbformat": 4,
 "nbformat_minor": 2
}
