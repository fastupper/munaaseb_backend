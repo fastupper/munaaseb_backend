{
 "cells": [
  {
   "cell_type": "code",
   "execution_count": 2,
   "metadata": {},
   "outputs": [
    {
     "data": {
      "text/plain": [
       "[('B5', ''),\n",
       " ('Z65', ''),\n",
       " ('Sheet2!C10', 'Sheet2!'),\n",
       " ('Sheet3!AZ50', 'Sheet3!')]"
      ]
     },
     "execution_count": 2,
     "metadata": {},
     "output_type": "execute_result"
    }
   ],
   "source": [
    "import re\n",
    "\n",
    "# Your regex pattern\n",
    "pattern = r\"((\\w*!)[A-Z]{1,3}[0-9]{1,7})\"\n",
    "\n",
    "# Sample text to search for matches\n",
    "text = \"This is a sample text with Excel addresses like B5, Z65, Sheet2!C10, and Sheet3!AZ50.\"\n",
    "\n",
    "# Find all matches using re.findall()\n",
    "matches = re.findall(pattern, text)\n",
    "\n",
    "matches"
   ]
  },
  {
   "cell_type": "code",
   "execution_count": 37,
   "metadata": {},
   "outputs": [
    {
     "name": "stdout",
     "output_type": "stream",
     "text": [
      "Sheet5!\u0000TSheet5!\u0000hSheet5!\u0000iSheet5!\u0000sSheet5!\u0000 Sheet5!\u0000iSheet5!\u0000sSheet5!\u0000 Sheet5!\u0000aSheet5!\u0000 Sheet5!\u0000sSheet5!\u0000aSheet5!\u0000mSheet5!\u0000pSheet5!\u0000lSheet5!\u0000eSheet5!\u0000 Sheet5!\u0000tSheet5!\u0000eSheet5!\u0000xSheet5!\u0000tSheet5!\u0000 Sheet5!\u0000wSheet5!\u0000iSheet5!\u0000tSheet5!\u0000hSheet5!\u0000 Sheet5!\u0000ESheet5!\u0000xSheet5!\u0000cSheet5!\u0000eSheet5!\u0000lSheet5!\u0000 Sheet5!\u0000aSheet5!\u0000dSheet5!\u0000dSheet5!\u0000rSheet5!\u0000eSheet5!\u0000sSheet5!\u0000sSheet5!\u0000eSheet5!\u0000sSheet5!\u0000 Sheet5!\u0000lSheet5!\u0000iSheet5!\u0000kSheet5!\u0000eSheet5!\u0000 Sheet5!\u0000BSheet5!\u00005Sheet5!\u0000,Sheet5!\u0000 Sheet5!\u0000ZSheet5!\u00006Sheet5!\u00005Sheet5!\u0000,Sheet5!\u0000 Sheet5!\u0000SSheet5!\u0000hSheet5!\u0000eSheet5!\u0000eSheet5!\u0000tSheet5!\u00002!Sheet5!\u0000CSheet5!\u00001Sheet5!\u00000Sheet5!\u0000,Sheet5!\u0000 Sheet5!\u0000aSheet5!\u0000nSheet5!\u0000dSheet5!\u0000 Sheet5!\u0000SSheet5!\u0000hSheet5!\u0000eSheet5!\u0000eSheet5!\u0000tSheet5!\u00003!Sheet5!\u0000ASheet5!\u0000ZSheet5!\u00005Sheet5!\u00000Sheet5!\u0000.Sheet5!\u0000\n"
     ]
    }
   ],
   "source": [
    "import re\n",
    "\n",
    "# Your regex pattern\n",
    "pattern = r\"((?!!)[A-Z]{1,3}[0-9]{1,7})\"\n",
    "\n",
    "# Sample text to search for matches and replace\n",
    "text = \"This is a sample text with Excel addresses like B5, Z65, Sheet2!C10, and Sheet3!AZ50.\"\n",
    "\n",
    "# Use re.sub() to replace the matches with the custom string\n",
    "result_text = re.sub(pattern, r\"Sheet5!\\1\", text)\n",
    "\n",
    "# Print the result\n",
    "print(result_text)"
   ]
  },
  {
   "cell_type": "code",
   "execution_count": 7,
   "metadata": {},
   "outputs": [
    {
     "ename": "IndexError",
     "evalue": "Replacement index 0 out of range for positional args tuple",
     "output_type": "error",
     "traceback": [
      "\u001b[1;31m---------------------------------------------------------------------------\u001b[0m",
      "\u001b[1;31mIndexError\u001b[0m                                Traceback (most recent call last)",
      "\u001b[1;32md:\\Documents\\le\\project\\mortgage_rm\\experiments\\regex.ipynb Cell 4\u001b[0m in \u001b[0;36m<cell line: 20>\u001b[1;34m()\u001b[0m\n\u001b[0;32m     <a href='vscode-notebook-cell:/d%3A/Documents/le/project/mortgage_rm/experiments/regex.ipynb#W3sZmlsZQ%3D%3D?line=16'>17</a>\u001b[0m pattern \u001b[39m=\u001b[39m \u001b[39mr\u001b[39m\u001b[39m\"\u001b[39m\u001b[39m\\\u001b[39m\u001b[39mbsample\u001b[39m\u001b[39m\\\u001b[39m\u001b[39mb\u001b[39m\u001b[39m\"\u001b[39m\n\u001b[0;32m     <a href='vscode-notebook-cell:/d%3A/Documents/le/project/mortgage_rm/experiments/regex.ipynb#W3sZmlsZQ%3D%3D?line=17'>18</a>\u001b[0m replacement \u001b[39m=\u001b[39m \u001b[39m\"\u001b[39m\u001b[39mexample: \u001b[39m\u001b[39m{}\u001b[39;00m\u001b[39m\"\u001b[39m\n\u001b[1;32m---> <a href='vscode-notebook-cell:/d%3A/Documents/le/project/mortgage_rm/experiments/regex.ipynb#W3sZmlsZQ%3D%3D?line=19'>20</a>\u001b[0m modified_text \u001b[39m=\u001b[39m regex_replace(pattern, replacement, text)\n\u001b[0;32m     <a href='vscode-notebook-cell:/d%3A/Documents/le/project/mortgage_rm/experiments/regex.ipynb#W3sZmlsZQ%3D%3D?line=20'>21</a>\u001b[0m \u001b[39mprint\u001b[39m(modified_text)\n",
      "\u001b[1;32md:\\Documents\\le\\project\\mortgage_rm\\experiments\\regex.ipynb Cell 4\u001b[0m in \u001b[0;36mregex_replace\u001b[1;34m(pattern, replacement, text)\u001b[0m\n\u001b[0;32m      <a href='vscode-notebook-cell:/d%3A/Documents/le/project/mortgage_rm/experiments/regex.ipynb#W3sZmlsZQ%3D%3D?line=8'>9</a>\u001b[0m     \u001b[39mreturn\u001b[39;00m replaced_text\n\u001b[0;32m     <a href='vscode-notebook-cell:/d%3A/Documents/le/project/mortgage_rm/experiments/regex.ipynb#W3sZmlsZQ%3D%3D?line=10'>11</a>\u001b[0m shift \u001b[39m=\u001b[39m \u001b[39m0\u001b[39m\n\u001b[1;32m---> <a href='vscode-notebook-cell:/d%3A/Documents/le/project/mortgage_rm/experiments/regex.ipynb#W3sZmlsZQ%3D%3D?line=11'>12</a>\u001b[0m modified_text \u001b[39m=\u001b[39m re\u001b[39m.\u001b[39;49msub(pattern, custom_replace, text)\n\u001b[0;32m     <a href='vscode-notebook-cell:/d%3A/Documents/le/project/mortgage_rm/experiments/regex.ipynb#W3sZmlsZQ%3D%3D?line=12'>13</a>\u001b[0m \u001b[39mreturn\u001b[39;00m modified_text\n",
      "File \u001b[1;32md:\\Program Files\\miniconda3\\envs\\py38\\lib\\re.py:210\u001b[0m, in \u001b[0;36msub\u001b[1;34m(pattern, repl, string, count, flags)\u001b[0m\n\u001b[0;32m    203\u001b[0m \u001b[39mdef\u001b[39;00m \u001b[39msub\u001b[39m(pattern, repl, string, count\u001b[39m=\u001b[39m\u001b[39m0\u001b[39m, flags\u001b[39m=\u001b[39m\u001b[39m0\u001b[39m):\n\u001b[0;32m    204\u001b[0m \u001b[39m    \u001b[39m\u001b[39m\"\"\"Return the string obtained by replacing the leftmost\u001b[39;00m\n\u001b[0;32m    205\u001b[0m \u001b[39m    non-overlapping occurrences of the pattern in string by the\u001b[39;00m\n\u001b[0;32m    206\u001b[0m \u001b[39m    replacement repl.  repl can be either a string or a callable;\u001b[39;00m\n\u001b[0;32m    207\u001b[0m \u001b[39m    if a string, backslash escapes in it are processed.  If it is\u001b[39;00m\n\u001b[0;32m    208\u001b[0m \u001b[39m    a callable, it's passed the Match object and must return\u001b[39;00m\n\u001b[0;32m    209\u001b[0m \u001b[39m    a replacement string to be used.\"\"\"\u001b[39;00m\n\u001b[1;32m--> 210\u001b[0m     \u001b[39mreturn\u001b[39;00m _compile(pattern, flags)\u001b[39m.\u001b[39;49msub(repl, string, count)\n",
      "\u001b[1;32md:\\Documents\\le\\project\\mortgage_rm\\experiments\\regex.ipynb Cell 4\u001b[0m in \u001b[0;36mregex_replace.<locals>.custom_replace\u001b[1;34m(match)\u001b[0m\n\u001b[0;32m      <a href='vscode-notebook-cell:/d%3A/Documents/le/project/mortgage_rm/experiments/regex.ipynb#W3sZmlsZQ%3D%3D?line=4'>5</a>\u001b[0m start \u001b[39m+\u001b[39m\u001b[39m=\u001b[39m shift\n\u001b[0;32m      <a href='vscode-notebook-cell:/d%3A/Documents/le/project/mortgage_rm/experiments/regex.ipynb#W3sZmlsZQ%3D%3D?line=5'>6</a>\u001b[0m end \u001b[39m+\u001b[39m\u001b[39m=\u001b[39m shift\n\u001b[1;32m----> <a href='vscode-notebook-cell:/d%3A/Documents/le/project/mortgage_rm/experiments/regex.ipynb#W3sZmlsZQ%3D%3D?line=6'>7</a>\u001b[0m replaced_text \u001b[39m=\u001b[39m replacement\u001b[39m.\u001b[39;49mformat(\u001b[39m*\u001b[39;49mmatch\u001b[39m.\u001b[39;49mgroups())\n\u001b[0;32m      <a href='vscode-notebook-cell:/d%3A/Documents/le/project/mortgage_rm/experiments/regex.ipynb#W3sZmlsZQ%3D%3D?line=7'>8</a>\u001b[0m shift \u001b[39m+\u001b[39m\u001b[39m=\u001b[39m \u001b[39mlen\u001b[39m(replaced_text) \u001b[39m-\u001b[39m (end \u001b[39m-\u001b[39m start)\n\u001b[0;32m      <a href='vscode-notebook-cell:/d%3A/Documents/le/project/mortgage_rm/experiments/regex.ipynb#W3sZmlsZQ%3D%3D?line=8'>9</a>\u001b[0m \u001b[39mreturn\u001b[39;00m replaced_text\n",
      "\u001b[1;31mIndexError\u001b[0m: Replacement index 0 out of range for positional args tuple"
     ]
    }
   ],
   "source": [
    "def regex_replace(pattern, replacement, text):\n",
    "    def custom_replace(match):\n",
    "        nonlocal shift\n",
    "        start, end = match.span()\n",
    "        start += shift\n",
    "        end += shift\n",
    "        replaced_text = replacement.format(*match.groups())\n",
    "        shift += len(replaced_text) - (end - start)\n",
    "        return replaced_text\n",
    "\n",
    "    shift = 0\n",
    "    modified_text = re.sub(pattern, custom_replace, text)\n",
    "    return modified_text\n",
    "\n",
    "# Example usage:\n",
    "text = \"This is a sample text with some sample words like apple, banana, and orange.\"\n",
    "pattern = r\"\\bsample\\b\"\n",
    "replacement = \"example: {}\"\n",
    "\n",
    "modified_text = regex_replace(pattern, replacement, text)\n",
    "print(modified_text)"
   ]
  },
  {
   "cell_type": "code",
   "execution_count": 80,
   "metadata": {},
   "outputs": [
    {
     "name": "stdout",
     "output_type": "stream",
     "text": [
      "=INDEX(Assumption!C11:I36,C11,MATCH(GQ5,Assumption!B11:B36,0),MATCH(Q5,Assumption!C10:I10,0))\n",
      "=INDEX(Assumption!C11:I36,C11,MATCH(replaced_GQ5,Assumption!B11:B36,0),MATCH(replaced_Q5,Assumption!C10:I10,0))\n"
     ]
    }
   ],
   "source": [
    "import re\n",
    "\n",
    "def regex_replace_without_conflict(patterns, text):\n",
    "    modified_text = re.sub(patterns, lambda x: 'replaced_' + x.group(0), text)\n",
    "    return modified_text\n",
    "\n",
    "# Example usage:\n",
    "text = \"=INDEX(Assumption!C11:I36,C11,MATCH(GQ5,Assumption!B11:B36,0),MATCH(Q5,Assumption!C10:I10,0))\"\n",
    "print(text)\n",
    "\n",
    "patterns = r\"\\bGQ5\\b|\\bQ5\\b|\\bn(!|,)C11\\b\"\n",
    "modified_text = regex_replace_without_conflict(patterns, text)\n",
    "print(modified_text)\n"
   ]
  },
  {
   "cell_type": "code",
   "execution_count": 40,
   "metadata": {},
   "outputs": [
    {
     "name": "stdout",
     "output_type": "stream",
     "text": [
      "Sheet1!BSheet2!Q5 and Sheet2!Q5 are both important.\n"
     ]
    }
   ],
   "source": [
    "def replace_without_conflict(replacements, text):\n",
    "    modified_text = text\n",
    "    for pattern, replacement in replacements.items():\n",
    "        start = 0\n",
    "        while start < len(modified_text):\n",
    "            idx = modified_text.find(pattern, start)\n",
    "            if idx == -1:\n",
    "                break\n",
    "            modified_text = modified_text[:idx] + replacement + modified_text[idx + len(pattern):]\n",
    "            start = idx + len(replacement)\n",
    "    return modified_text\n",
    "\n",
    "# Example usage:\n",
    "text = \"BQ5 and Q5 are both important.\"\n",
    "\n",
    "replacements = {\n",
    "    \"BQ5\": \"Sheet1!BQ5\",\n",
    "    \"Q5\": \"Sheet2!Q5\"\n",
    "}\n",
    "\n",
    "modified_text = replace_without_conflict(replacements, text)\n",
    "print(modified_text)\n"
   ]
  }
 ],
 "metadata": {
  "kernelspec": {
   "display_name": "py38",
   "language": "python",
   "name": "python3"
  },
  "language_info": {
   "codemirror_mode": {
    "name": "ipython",
    "version": 3
   },
   "file_extension": ".py",
   "mimetype": "text/x-python",
   "name": "python",
   "nbconvert_exporter": "python",
   "pygments_lexer": "ipython3",
   "version": "3.8.16"
  },
  "orig_nbformat": 4
 },
 "nbformat": 4,
 "nbformat_minor": 2
}
