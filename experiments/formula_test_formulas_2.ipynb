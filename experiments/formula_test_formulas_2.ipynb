{
 "cells": [
  {
   "cell_type": "code",
   "execution_count": 1,
   "metadata": {},
   "outputs": [
    {
     "name": "stdout",
     "output_type": "stream",
     "text": [
      "['A2', 'B3']\n"
     ]
    },
    {
     "data": {
      "text/plain": [
       "Array(7.0, dtype=object)"
      ]
     },
     "execution_count": 1,
     "metadata": {},
     "output_type": "execute_result"
    }
   ],
   "source": [
    "import formulas\n",
    "import numpy as np \n",
    "\n",
    "func = formulas.Parser().ast('=(1 + 1) + B3 / A2')[1].compile()\n",
    "print(list(func.inputs))\n",
    "func('1', '5')"
   ]
  },
  {
   "cell_type": "code",
   "execution_count": 12,
   "metadata": {},
   "outputs": [
    {
     "name": "stdout",
     "output_type": "stream",
     "text": [
      "['D1:E2']\n",
      "6.0\n",
      "['D1:E2']\n",
      "[[0]]\n"
     ]
    }
   ],
   "source": [
    "func = formulas.Parser().ast('=SUM(D1:E2)')[1].compile()\n",
    "print(list(func.inputs))\n",
    "# ['D1:E2']\n",
    "\n",
    "print(func([[0,1],[2,3]]))\n",
    "# 6.0\n",
    "\n",
    "func = formulas.Parser().ast('=INDEX(D1:E2,1,1)')[1].compile()\n",
    "print(list(func.inputs))\n",
    "# ['D1:E2']\n",
    "print(func(np.array([[0,1],[2,3]])))\n",
    "# [[#REF!]]"
   ]
  },
  {
   "cell_type": "code",
   "execution_count": 11,
   "metadata": {},
   "outputs": [
    {
     "name": "stdout",
     "output_type": "stream",
     "text": [
      "['ASSUMPTION!B11:B36', 'FOR_INTEGRATION_V02!BT5']\n",
      "16\n",
      "['ASSUMPTION!C10:I10', 'FOR_INTEGRATION_V02!Q5']\n",
      "4\n",
      "[[99]]\n",
      "\n",
      "['B1']\n",
      "[['0.025']]\n",
      "\n",
      "['AD1', 'ASSUMPTION!C11:I36', 'BE1']\n",
      "[['=M14']]\n",
      "\n",
      "[['=M14']]\n"
     ]
    }
   ],
   "source": [
    "# ['ASSUMPTION!B11:B36', 'ASSUMPTION!C10:I10', 'ASSUMPTION!C11:I36', 'FOR_INTEGRATION_V02!BT5', 'FOR_INTEGRATION_V02!Q5']\n",
    "a = [['5'], ['6'], ['7'], ['8'], ['9'], ['10'], ['11'], ['12'], ['13'], ['14'], ['15'], ['16'], ['17'], ['18'], ['19'], ['20'], ['21'], ['22'], ['23'], ['24'], ['25'], ['26'], ['27'], ['28'], ['29'], ['30']]\n",
    "b = [['غير مستحق للدعم', 'Check 1', 'No. of Years', 'مستحق للدعم', 'check 2', 'No. of Years', 'لا اعلم']]\n",
    "c = [\n",
    "    ['0.025', -1, '5', '=F12-$O$13', -1, '5', '=F11'], \n",
    "    ['=C11+$O$5', -1, '6', '=F13-$O$13', -1, '6', '=F12'], \n",
    "    ['=C12+$O$5', -1, '7', '=F14-$O$13', -1, '7', '=F13'], \n",
    "    ['=C13+$O$5', -1, '8', '=F15-$O$13', -1, '8', '=F14'], \n",
    "    ['=C14+$O$5', -1, '9', '=F16-$O$13', -1, '9', '=F15'], \n",
    "    ['=M4', -1, '10', '=M12', -1, '10', '=F16'], \n",
    "    ['=C16+$O$5', -1, '11', '=F16+$O$13', -1, '11', '=F17'], \n",
    "    ['=C17+$O$5', -1, '12', '=F17+$O$13', -1, '12', '=F18'], \n",
    "    ['=C18+$O$5', -1, '13', '=F18+$O$13', -1, '13', '=F19'], \n",
    "    ['=C19+$O$5', -1, '14', '=F19+$O$13', -1, '14', '=F20'], \n",
    "    ['=M5', '=C20+O5', '15', '=M13', '=F20+O13', '15', '=F21'], \n",
    "    ['=C21+$O$6', -1, '16', '=F21+$O$14', -1, '16', '=F22'], \n",
    "    ['=C22+$O$6', -1, '17', '=F22+$O$14', -1, '17', '=F23'], \n",
    "    ['=C23+$O$6', -1, '18', '=F23+$O$14', -1, '18', '=F24'], \n",
    "    ['=C24+$O$6', -1, '19', '=F24+$O$14', -1, '19', '=F25'], \n",
    "    ['=M6', '=C25+O6', '20', '=M14', '=F25+O14', '20', '=F26'], \n",
    "    ['=C26+$O$7', -1, '21', '=F26+$O$15', -1, '21', '=F27'], \n",
    "    ['=C27+$O$7', -1, '22', '=F27+$O$15', -1, '22', '=F28'], \n",
    "    ['=C28+$O$7', -1, '23', '=F28+$O$15', -1, '23', '=F29'], \n",
    "    ['=C29+$O$7', -1, '24', '=F29+$O$15', -1, '24', '=F30'], \n",
    "    ['=M7', '=C30+O7', '25', '=M15', '=F30+O15', '25', '=F31'], \n",
    "    ['=M7+$O$8', -1, '26', '=F31+$O$16', -1, '26', '=F32'], \n",
    "    ['=C32+$O$8', -1, '27', '=F32+$O$16', -1, '27', '=F33'], \n",
    "    ['=C33+$O$8', -1, '28', '=F33+$O$16', -1, '28', '=F34'], \n",
    "    ['=C34+$O$8', -1, '29', '=F34+$O$16', -1, '29', '=F35'], \n",
    "    ['=M8', '=C35+O8', '30', '=M16', '=F35+O16', '30', '=F36']\n",
    "]\n",
    "d = '20'\n",
    "e = \"مستحق للدعم\"\n",
    "\n",
    "a = np.array(a)\n",
    "b = np.array(b)\n",
    "c = np.array(c)\n",
    "\n",
    "\n",
    "func = formulas.Parser().ast('=MATCH(For_integration_V02!BT5,Assumption!B11:B36,0)')[1].compile()\n",
    "print(list(func.inputs))\n",
    "print(func(a,d))\n",
    "\n",
    "func = formulas.Parser().ast('=MATCH(For_integration_V02!Q5,Assumption!C10:I10,0)')[1].compile()\n",
    "print(list(func.inputs))\n",
    "print(func(b,e))\n",
    "\n",
    "func = formulas.Parser().ast('=INDEX({99,1;2,3},1,1)')[1].compile()\n",
    "print(func())\n",
    "print()\n",
    "\n",
    "func = formulas.Parser().ast('=INDEX(B1,1,1,1)')[1].compile()\n",
    "print(list(func.inputs))\n",
    "print(func(np.array(c)))\n",
    "print()\n",
    "\n",
    "ad = 16\n",
    "be = 4\n",
    "func = formulas.Parser().ast('=INDEX(Assumption!C11:I36,AD1,BE1)')[1].compile()\n",
    "print(list(func.inputs))\n",
    "print(func(ad, c, be))\n",
    "print()\n",
    "\n",
    "func = formulas.Parser().ast('=INDEX(Assumption!C11:I36,MATCH(For_integration_V02!BT5,Assumption!B11:B36,0),MATCH(For_integration_V02!Q5,Assumption!C10:I10,0))')[1].compile()\n",
    "# print(list(func.inputs))\n",
    "# ['ASSUMPTION!B11:B36', 'ASSUMPTION!C10:I10', 'ASSUMPTION!C11:I36', 'FOR_INTEGRATION_V02!BT5', 'FOR_INTEGRATION_V02!Q5']\n",
    "print(func(a,b,c,d,e))\n"
   ]
  }
 ],
 "metadata": {
  "kernelspec": {
   "display_name": "py38",
   "language": "python",
   "name": "python3"
  },
  "language_info": {
   "codemirror_mode": {
    "name": "ipython",
    "version": 3
   },
   "file_extension": ".py",
   "mimetype": "text/x-python",
   "name": "python",
   "nbconvert_exporter": "python",
   "pygments_lexer": "ipython3",
   "version": "3.8.16"
  },
  "orig_nbformat": 4
 },
 "nbformat": 4,
 "nbformat_minor": 2
}
