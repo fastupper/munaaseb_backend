{
 "cells": [
  {
   "attachments": {},
   "cell_type": "markdown",
   "id": "7666486a",
   "metadata": {},
   "source": [
    "# Mortgage Calculations task"
   ]
  },
  {
   "attachments": {},
   "cell_type": "markdown",
   "id": "7bd968be",
   "metadata": {},
   "source": [
    "### Reading from excel & jsons"
   ]
  },
  {
   "cell_type": "code",
   "execution_count": 1,
   "id": "eeb41e7c",
   "metadata": {},
   "outputs": [],
   "source": [
    "import os\n",
    "import importlib\n",
    "import pandas as pd\n",
    "import json\n",
    "import numpy as np\n",
    "import mortgage_formular as mor_formular\n",
    "import re\n",
    "import utils"
   ]
  },
  {
   "cell_type": "code",
   "execution_count": 3,
   "id": "29b05756",
   "metadata": {},
   "outputs": [
    {
     "name": "stdout",
     "output_type": "stream",
     "text": [
      "Number of banks 10\n",
      "number of columns: 341\n",
      "number of applicants: 1\n"
     ]
    },
    {
     "name": "stderr",
     "output_type": "stream",
     "text": [
      "C:\\Users\\lego0\\AppData\\Local\\Temp\\ipykernel_19472\\3073319132.py:31: UserWarning: DataFrame columns are not unique, some columns will be omitted.\n",
      "  applicant_dicts = applicant_df.to_dict('records')\n"
     ]
    }
   ],
   "source": [
    "excel_path = 'client_docs/example_data.xlsx'\n",
    "\n",
    "interest_df = pd.read_excel(excel_path,sheet_name='Banks interest')\n",
    "print('Number of banks', len(interest_df['Banks Name '].unique()))\n",
    "\n",
    "# government_support_df = pd.read_excel(excel_path,sheet_name='Government Support')\n",
    "\n",
    "assumption_df = pd.read_excel(excel_path,sheet_name='Assumption', header=None)\n",
    "assumption_reader = utils.AssumptionData(assumption_df)\n",
    "assumption_reader.get_info()\n",
    "\n",
    "applicant_df = pd.read_excel(excel_path,sheet_name='For integration V02')\n",
    "\n",
    "headers = applicant_df.iloc[2].values[:341]\n",
    "headers = ['' if pd.isna(x) else x for x in headers ] \n",
    "headers = [re.sub(r'[^\\w\\s]|(?<=\\s)_', '', i) for i in headers if type(i)==str]\n",
    "match_headers = [i.strip().lower().replace(' ','_') for i in headers if type(i)==str]\n",
    "match_headers[match_headers.index('supportednot_supported')] = 'supported_not_supported'\n",
    "match_headers[match_headers.index('additional_upfront')] = 'additional_up_front'\n",
    "\n",
    "match_headers = [\n",
    "    col if col != '' else f'col_{i}' \n",
    "    for i,col in enumerate(match_headers)\n",
    "]\n",
    "\n",
    "print('number of columns:', len(match_headers))\n",
    "\n",
    "applicant_df = applicant_df.iloc[3:, :len(match_headers)]\n",
    "applicant_df.columns = match_headers # note: col 27 & col 38 both have the same name\n",
    "\n",
    "applicant_dicts = applicant_df.to_dict('records')\n",
    "print('number of applicants:', len(applicant_dicts))\n",
    "\n",
    "applicant_dict = applicant_dicts[0]"
   ]
  },
  {
   "attachments": {},
   "cell_type": "markdown",
   "id": "168f0732",
   "metadata": {},
   "source": [
    "### Calculation of flow_output & pdf_output"
   ]
  },
  {
   "cell_type": "code",
   "execution_count": 5,
   "id": "1d7222ca",
   "metadata": {},
   "outputs": [],
   "source": [
    "importlib.reload(mor_formular)\n",
    "\n",
    "calculator = mor_formular.MortgageCalculator(interest_df)\n",
    "\n",
    "for idx, applicant_dict in enumerate(applicant_dicts):\n",
    "    # calculate\n",
    "    calculator.calculate(applicant_dict)\n",
    "    input_dict = calculator.get_input_dict()\n",
    "    output_flow = calculator.get_output_flow()\n",
    "    pdf_output = calculator.get_pdf_output()\n",
    "    other_dict = calculator.get_other_dict()\n",
    "\n",
    "    # save output\n",
    "    applicant_dir = os.path.join('output', str(idx))\n",
    "    os.makedirs(applicant_dir, exist_ok=True)\n",
    "\n",
    "    with open(os.path.join(applicant_dir, 'input.json'), 'w', encoding='utf-8') as f:\n",
    "        json.dump(input_dict, f, ensure_ascii=False, indent=4)\n",
    "\n",
    "    output_dict = {}\n",
    "    output_dict['input'] = input_dict\n",
    "    output_dict['flow_output'] = output_flow\n",
    "    output_dict['pdf_output'] = pdf_output\n",
    "\n",
    "    with open(os.path.join(applicant_dir, 'output.json'), 'w', encoding='utf-8') as f:\n",
    "        json.dump(output_dict,f, ensure_ascii=False, indent=4)"
   ]
  }
 ],
 "metadata": {
  "kernelspec": {
   "display_name": "py38",
   "language": "python",
   "name": "python3"
  },
  "language_info": {
   "codemirror_mode": {
    "name": "ipython",
    "version": 3
   },
   "file_extension": ".py",
   "mimetype": "text/x-python",
   "name": "python",
   "nbconvert_exporter": "python",
   "pygments_lexer": "ipython3",
   "version": "3.8.16"
  }
 },
 "nbformat": 4,
 "nbformat_minor": 5
}
